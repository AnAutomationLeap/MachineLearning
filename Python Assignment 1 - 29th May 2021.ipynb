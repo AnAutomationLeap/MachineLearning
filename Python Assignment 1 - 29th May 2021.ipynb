{
 "cells": [
  {
   "cell_type": "markdown",
   "id": "d3a191cb",
   "metadata": {},
   "source": [
    "## Python Assignment 1 - 29th May 2021"
   ]
  },
  {
   "cell_type": "markdown",
   "id": "ac0e290c",
   "metadata": {},
   "source": [
    "### Assignment 1 : Write a program which will find all such numbers which are divisible by 7 but are not a mutiple of 5, between 2000 and 3200 (both included). The numbers obtained should be printed in a comma-separated sequence on single line.¶"
   ]
  },
  {
   "cell_type": "code",
   "execution_count": 3,
   "id": "85540470",
   "metadata": {},
   "outputs": [
    {
     "data": {
      "text/plain": [
       "'[2002, 2009, 2016, 2023, 2037, 2044, 2051, 2058, 2072, 2079, 2086, 2093, 2107, 2114, 2121, 2128, 2142, 2149, 2156, 2163, 2177, 2184, 2191, 2198, 2212, 2219, 2226, 2233, 2247, 2254, 2261, 2268, 2282, 2289, 2296, 2303, 2317, 2324, 2331, 2338, 2352, 2359, 2366, 2373, 2387, 2394, 2401, 2408, 2422, 2429, 2436, 2443, 2457, 2464, 2471, 2478, 2492, 2499, 2506, 2513, 2527, 2534, 2541, 2548, 2562, 2569, 2576, 2583, 2597, 2604, 2611, 2618, 2632, 2639, 2646, 2653, 2667, 2674, 2681, 2688, 2702, 2709, 2716, 2723, 2737, 2744, 2751, 2758, 2772, 2779, 2786, 2793, 2807, 2814, 2821, 2828, 2842, 2849, 2856, 2863, 2877, 2884, 2891, 2898, 2912, 2919, 2926, 2933, 2947, 2954, 2961, 2968, 2982, 2989, 2996, 3003, 3017, 3024, 3031, 3038, 3052, 3059, 3066, 3073, 3087, 3094, 3101, 3108, 3122, 3129, 3136, 3143, 3157, 3164, 3171, 3178, 3192, 3199]'"
      ]
     },
     "execution_count": 3,
     "metadata": {},
     "output_type": "execute_result"
    }
   ],
   "source": [
    "lower = 2000\n",
    "higher = 3200\n",
    "n=[]\n",
    "\n",
    "for i in range(lower,higher+1):\n",
    "    if(i%7==0 and i%5!=0):\n",
    "        n.append(i)\n",
    "str(n)"
   ]
  },
  {
   "cell_type": "markdown",
   "id": "8e85931a",
   "metadata": {},
   "source": [
    "### Assignment 2 : Write a python program to accept the user's first name and list name and then getting them printed in reverse order with space between first name and last name."
   ]
  },
  {
   "cell_type": "code",
   "execution_count": 4,
   "id": "186ef703",
   "metadata": {},
   "outputs": [
    {
     "name": "stdout",
     "output_type": "stream",
     "text": [
      "Enter First Name: Harshad\n",
      "Enter Last Name: Pawar\n",
      "rawaP dahsraH\n"
     ]
    }
   ],
   "source": [
    "first_name=str(input(\"Enter First Name: \"))\n",
    "last_name=str(input(\"Enter Last Name: \"))\n",
    "concat_str =  first_name +\" \" + last_name\n",
    "Reverse_str = str(concat_str) [::-1]\n",
    "print(Reverse_str)"
   ]
  },
  {
   "cell_type": "code",
   "execution_count": null,
   "id": "3b4f5361",
   "metadata": {},
   "outputs": [],
   "source": []
  },
  {
   "cell_type": "markdown",
   "id": "70c23abe",
   "metadata": {},
   "source": [
    "### Assignment 3 : Write a python program to find the volume of a sphere with diameter 12 cm."
   ]
  },
  {
   "cell_type": "code",
   "execution_count": 5,
   "id": "ddc8095a",
   "metadata": {},
   "outputs": [
    {
     "ename": "NameError",
     "evalue": "name 'r' is not defined",
     "output_type": "error",
     "traceback": [
      "\u001b[1;31m---------------------------------------------------------------------------\u001b[0m",
      "\u001b[1;31mNameError\u001b[0m                                 Traceback (most recent call last)",
      "\u001b[1;32m<ipython-input-5-cecc2b3dc49b>\u001b[0m in \u001b[0;36m<module>\u001b[1;34m\u001b[0m\n\u001b[0;32m      3\u001b[0m \u001b[0mdiameter\u001b[0m\u001b[1;33m=\u001b[0m\u001b[1;36m12\u001b[0m\u001b[1;33m\u001b[0m\u001b[1;33m\u001b[0m\u001b[0m\n\u001b[0;32m      4\u001b[0m \u001b[0mradius\u001b[0m \u001b[1;33m=\u001b[0m \u001b[0mdiameter\u001b[0m\u001b[1;33m/\u001b[0m\u001b[1;36m2\u001b[0m\u001b[1;33m\u001b[0m\u001b[1;33m\u001b[0m\u001b[0m\n\u001b[1;32m----> 5\u001b[1;33m \u001b[0mvolume\u001b[0m \u001b[1;33m=\u001b[0m \u001b[1;36m4\u001b[0m\u001b[1;33m/\u001b[0m\u001b[1;36m3\u001b[0m\u001b[1;33m*\u001b[0m\u001b[0mmath\u001b[0m\u001b[1;33m.\u001b[0m\u001b[0mpi\u001b[0m\u001b[1;33m*\u001b[0m\u001b[0mr\u001b[0m\u001b[1;33m**\u001b[0m\u001b[1;36m3\u001b[0m\u001b[1;33m\u001b[0m\u001b[1;33m\u001b[0m\u001b[0m\n\u001b[0m\u001b[0;32m      6\u001b[0m \u001b[1;33m\u001b[0m\u001b[0m\n\u001b[0;32m      7\u001b[0m \u001b[0mprint\u001b[0m\u001b[1;33m(\u001b[0m\u001b[1;34m\"The volume of a sphere with diameter 12 cm is :\"\u001b[0m\u001b[1;33m)\u001b[0m\u001b[1;33m\u001b[0m\u001b[1;33m\u001b[0m\u001b[0m\n",
      "\u001b[1;31mNameError\u001b[0m: name 'r' is not defined"
     ]
    }
   ],
   "source": [
    "import math\n",
    "\n",
    "diameter=12\n",
    "radius = diameter/2\n",
    "volume = 4/3*math.pi*r**3\n",
    "\n",
    "print(\"The volume of a sphere with diameter 12 cm is :\")\n",
    "volume"
   ]
  },
  {
   "cell_type": "code",
   "execution_count": null,
   "id": "e8c02096",
   "metadata": {},
   "outputs": [],
   "source": []
  }
 ],
 "metadata": {
  "kernelspec": {
   "display_name": "Python 3",
   "language": "python",
   "name": "python3"
  },
  "language_info": {
   "codemirror_mode": {
    "name": "ipython",
    "version": 3
   },
   "file_extension": ".py",
   "mimetype": "text/x-python",
   "name": "python",
   "nbconvert_exporter": "python",
   "pygments_lexer": "ipython3",
   "version": "3.8.8"
  },
  "varInspector": {
   "cols": {
    "lenName": 16,
    "lenType": 16,
    "lenVar": 40
   },
   "kernels_config": {
    "python": {
     "delete_cmd_postfix": "",
     "delete_cmd_prefix": "del ",
     "library": "var_list.py",
     "varRefreshCmd": "print(var_dic_list())"
    },
    "r": {
     "delete_cmd_postfix": ") ",
     "delete_cmd_prefix": "rm(",
     "library": "var_list.r",
     "varRefreshCmd": "cat(var_dic_list()) "
    }
   },
   "types_to_exclude": [
    "module",
    "function",
    "builtin_function_or_method",
    "instance",
    "_Feature"
   ],
   "window_display": false
  }
 },
 "nbformat": 4,
 "nbformat_minor": 5
}

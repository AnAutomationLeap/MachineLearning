{
 "cells": [
  {
   "cell_type": "markdown",
   "id": "4fa0a600",
   "metadata": {},
   "source": [
    "# Python Assignment 2 - 29 May 2021"
   ]
  },
  {
   "cell_type": "markdown",
   "id": "f41e3a41",
   "metadata": {},
   "source": [
    "### Question 1 : Create the below pattern using nested for loop in Python.\n",
    "    \n",
    "    \n",
    "#### *\n",
    "#### * *\n",
    "#### * * *\n",
    "#### * * * *\n",
    "#### * * * * *\n",
    "#### * * * *\n",
    "#### * * *\n",
    "#### * *\n",
    "#### *"
   ]
  },
  {
   "cell_type": "code",
   "execution_count": 26,
   "id": "e02f6166",
   "metadata": {},
   "outputs": [
    {
     "name": "stdout",
     "output_type": "stream",
     "text": [
      "* \r\n",
      "* * \r\n",
      "* * * \r\n",
      "* * * * \r\n",
      "* * * * * \r\n",
      "* * * * \r\n",
      "* * * \r\n",
      "* * \r\n",
      "* \r\n",
      "\r\n"
     ]
    }
   ],
   "source": [
    "rows = 5\n",
    "for i in range(0, rows):\n",
    "    for j in range(0, i + 1):\n",
    "        print(\"*\",end=' ')\n",
    "    print(\"\\r\")\n",
    "\n",
    "for i in range(rows,0,-1):\n",
    "    for j in range(0, i - 1):\n",
    "        print(\"*\", end=' ')\n",
    "    print(\"\\r\")\n"
   ]
  },
  {
   "cell_type": "code",
   "execution_count": 24,
   "id": "f713445b",
   "metadata": {},
   "outputs": [],
   "source": []
  },
  {
   "cell_type": "markdown",
   "id": "10ffab95",
   "metadata": {},
   "source": [
    "### Question 2 : Write a Python program to reverse a word after accepting the input from the user.\n",
    "\n",
    "#### Sample Output:\n",
    "#### Input word : ineuron\n",
    "#### Output : norueni"
   ]
  },
  {
   "cell_type": "code",
   "execution_count": 27,
   "id": "c38f288a",
   "metadata": {},
   "outputs": [
    {
     "name": "stdout",
     "output_type": "stream",
     "text": [
      "Enter a word to reverse : ineuron\n",
      "norueni\n"
     ]
    }
   ],
   "source": [
    "Reverse_String = input(\"Enter a word to reverse : \")[::-1]\n",
    "\n",
    "print(Reverse_String)"
   ]
  }
 ],
 "metadata": {
  "kernelspec": {
   "display_name": "Python 3",
   "language": "python",
   "name": "python3"
  },
  "language_info": {
   "codemirror_mode": {
    "name": "ipython",
    "version": 3
   },
   "file_extension": ".py",
   "mimetype": "text/x-python",
   "name": "python",
   "nbconvert_exporter": "python",
   "pygments_lexer": "ipython3",
   "version": "3.8.8"
  },
  "varInspector": {
   "cols": {
    "lenName": 16,
    "lenType": 16,
    "lenVar": 40
   },
   "kernels_config": {
    "python": {
     "delete_cmd_postfix": "",
     "delete_cmd_prefix": "del ",
     "library": "var_list.py",
     "varRefreshCmd": "print(var_dic_list())"
    },
    "r": {
     "delete_cmd_postfix": ") ",
     "delete_cmd_prefix": "rm(",
     "library": "var_list.r",
     "varRefreshCmd": "cat(var_dic_list()) "
    }
   },
   "types_to_exclude": [
    "module",
    "function",
    "builtin_function_or_method",
    "instance",
    "_Feature"
   ],
   "window_display": false
  }
 },
 "nbformat": 4,
 "nbformat_minor": 5
}

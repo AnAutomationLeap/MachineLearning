{
 "cells": [
  {
   "cell_type": "markdown",
   "id": "b2497014",
   "metadata": {},
   "source": [
    "# Python Assignment 4 - 05-06-2021"
   ]
  },
  {
   "cell_type": "code",
   "execution_count": null,
   "id": "f673b3ef",
   "metadata": {},
   "outputs": [],
   "source": []
  },
  {
   "cell_type": "markdown",
   "id": "dc7fc497",
   "metadata": {},
   "source": [
    "## 1.1 Write a Python Program(with class concepts) to find the area of the triangle using the below formula.\n",
    "## area = (s*(s-a)*(s-b)*(s-c)) ** 0.5"
   ]
  },
  {
   "cell_type": "code",
   "execution_count": 2,
   "id": "de2d7978",
   "metadata": {},
   "outputs": [
    {
     "name": "stdout",
     "output_type": "stream",
     "text": [
      "a = 3\n",
      "b = 4\n",
      "c = 5\n",
      "area : 6.0\n"
     ]
    }
   ],
   "source": [
    "## area = (s*(s-a)*(s-b)*(s-c)) ** 0.5\n",
    "class poly:\n",
    "    def __init__(self,a,b,c):\n",
    "        self.a = a\n",
    "        self.b = b\n",
    "        self.c = c\n",
    "        \n",
    "class triangle(poly):\n",
    "    def get_area(self):\n",
    "        s = (self.a + self.b + self.c) / 2\n",
    "        return float((s*(s-self.a)*(s-self.b)*(s-self.c))) ** 0.5        \n",
    "\n",
    "a, b, c = float(input(\"a = \")), float(input(\"b = \")), float(input(\"c = \"))\n",
    "t = triangle(a,b,c)\n",
    "print(\"area : {}\".format(t.get_area()))"
   ]
  },
  {
   "cell_type": "code",
   "execution_count": null,
   "id": "d137f54b",
   "metadata": {},
   "outputs": [],
   "source": []
  },
  {
   "cell_type": "markdown",
   "id": "6ee08642",
   "metadata": {},
   "source": [
    "## 1.2 Write a function filter_long_words() that takes a list of words and an integer n and returns the list of words that are longer than n."
   ]
  },
  {
   "cell_type": "code",
   "execution_count": 17,
   "id": "05a9fdde",
   "metadata": {
    "scrolled": true
   },
   "outputs": [
    {
     "name": "stdout",
     "output_type": "stream",
     "text": [
      "['Harshad', 'Kaustubh']\n"
     ]
    }
   ],
   "source": [
    "inputListOfWords = ['Krish','Subbh','Harshad','Kaustubh','Yojana']\n",
    "inputWordLength = 6\n",
    "\n",
    "\n",
    "def filter_long_words(words,intgr):\n",
    "    \n",
    "    listOfWords = []\n",
    "    \n",
    "    for i in range(len(words)):\n",
    "        if len(words[i]) > intgr:\n",
    "            listOfWords.append(words[i])\n",
    "    \n",
    "    return listOfWords\n",
    "\n",
    "\n",
    "    \n",
    "print(str(filter_long_words(inputListOfWords,inputWordLength)))\n",
    "    "
   ]
  },
  {
   "cell_type": "code",
   "execution_count": null,
   "id": "7bd88979",
   "metadata": {},
   "outputs": [],
   "source": []
  },
  {
   "cell_type": "code",
   "execution_count": null,
   "id": "7854377b",
   "metadata": {},
   "outputs": [],
   "source": []
  },
  {
   "cell_type": "markdown",
   "id": "51097ebf",
   "metadata": {},
   "source": [
    "## 2.1 Write a Python program using function concept that maps list of words into a list of integers representing the lengths of the corresponding words.\n",
    "## Hint: If a list [ ab,cde,erty] is passed on to the python function output should come as [2,3,4] : Here 2,3 and 4 are the lengths of the words in the list."
   ]
  },
  {
   "cell_type": "code",
   "execution_count": 18,
   "id": "78492db6",
   "metadata": {},
   "outputs": [
    {
     "name": "stdout",
     "output_type": "stream",
     "text": [
      "[2, 3, 4]\n"
     ]
    }
   ],
   "source": [
    "inputListOfWords = ['ab','cde','erty']\n",
    "\n",
    "def map_listof_words(words):\n",
    "    \n",
    "    lengthOfWords = []\n",
    "    \n",
    "    for i in range(len(words)):\n",
    "        lengthOfWords.append(len(words[i]))\n",
    "        \n",
    "    return lengthOfWords\n",
    "\n",
    "print(map_listof_words(inputListOfWords))"
   ]
  },
  {
   "cell_type": "code",
   "execution_count": null,
   "id": "dac5adf5",
   "metadata": {},
   "outputs": [],
   "source": []
  },
  {
   "cell_type": "markdown",
   "id": "424c2590",
   "metadata": {},
   "source": [
    "## 2.2 Write a Python function which takes a character (i.e. a string of length 1) and returns True if it is a vowel, False otherwise."
   ]
  },
  {
   "cell_type": "code",
   "execution_count": 20,
   "id": "9f12976e",
   "metadata": {},
   "outputs": [],
   "source": [
    "def isVowel(char):\n",
    "    return char.lower() in 'aeiou'\n",
    "    "
   ]
  },
  {
   "cell_type": "code",
   "execution_count": 21,
   "id": "4f91bfda",
   "metadata": {},
   "outputs": [
    {
     "data": {
      "text/plain": [
       "False"
      ]
     },
     "execution_count": 21,
     "metadata": {},
     "output_type": "execute_result"
    }
   ],
   "source": [
    "isVowel('Z')"
   ]
  },
  {
   "cell_type": "code",
   "execution_count": 22,
   "id": "56061b93",
   "metadata": {},
   "outputs": [
    {
     "data": {
      "text/plain": [
       "True"
      ]
     },
     "execution_count": 22,
     "metadata": {},
     "output_type": "execute_result"
    }
   ],
   "source": [
    "isVowel('A')"
   ]
  },
  {
   "cell_type": "code",
   "execution_count": 23,
   "id": "d8cd9e30",
   "metadata": {},
   "outputs": [
    {
     "data": {
      "text/plain": [
       "True"
      ]
     },
     "execution_count": 23,
     "metadata": {},
     "output_type": "execute_result"
    }
   ],
   "source": [
    "isVowel('e')"
   ]
  },
  {
   "cell_type": "code",
   "execution_count": 24,
   "id": "5d7daac5",
   "metadata": {},
   "outputs": [
    {
     "data": {
      "text/plain": [
       "False"
      ]
     },
     "execution_count": 24,
     "metadata": {},
     "output_type": "execute_result"
    }
   ],
   "source": [
    "isVowel('HA')"
   ]
  }
 ],
 "metadata": {
  "kernelspec": {
   "display_name": "Python 3",
   "language": "python",
   "name": "python3"
  },
  "language_info": {
   "codemirror_mode": {
    "name": "ipython",
    "version": 3
   },
   "file_extension": ".py",
   "mimetype": "text/x-python",
   "name": "python",
   "nbconvert_exporter": "python",
   "pygments_lexer": "ipython3",
   "version": "3.8.8"
  },
  "varInspector": {
   "cols": {
    "lenName": 16,
    "lenType": 16,
    "lenVar": 40
   },
   "kernels_config": {
    "python": {
     "delete_cmd_postfix": "",
     "delete_cmd_prefix": "del ",
     "library": "var_list.py",
     "varRefreshCmd": "print(var_dic_list())"
    },
    "r": {
     "delete_cmd_postfix": ") ",
     "delete_cmd_prefix": "rm(",
     "library": "var_list.r",
     "varRefreshCmd": "cat(var_dic_list()) "
    }
   },
   "types_to_exclude": [
    "module",
    "function",
    "builtin_function_or_method",
    "instance",
    "_Feature"
   ],
   "window_display": false
  }
 },
 "nbformat": 4,
 "nbformat_minor": 5
}
